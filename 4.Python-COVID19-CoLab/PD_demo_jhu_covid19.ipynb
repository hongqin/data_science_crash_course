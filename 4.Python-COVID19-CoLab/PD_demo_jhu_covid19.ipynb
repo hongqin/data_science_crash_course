{
  "nbformat": 4,
  "nbformat_minor": 0,
  "metadata": {
    "kernelspec": {
      "display_name": "Python 3",
      "language": "python",
      "name": "python3"
    },
    "language_info": {
      "codemirror_mode": {
        "name": "ipython",
        "version": 3
      },
      "file_extension": ".py",
      "mimetype": "text/x-python",
      "name": "python",
      "nbconvert_exporter": "python",
      "pygments_lexer": "ipython3",
      "version": "3.7.4"
    },
    "colab": {
      "name": "PD-demo-jhu-covid19.ipynb",
      "provenance": [],
      "collapsed_sections": [],
      "toc_visible": true
    }
  },
  "cells": [
    {
      "cell_type": "markdown",
      "metadata": {
        "id": "u2JG1gbmiCb6"
      },
      "source": [
        "# Using Python to analyze the Covid19 data\n",
        "Hong Qin\n",
        "\n",
        "Code at https://github.com/hongqin/python-covid19-analysis-sandbox/blob/master/PD_demo_jhu_covid19.ipynb\n",
        "\n",
        "Video at https://youtu.be/1JDP4o92tss \n",
        "\n",
        "These materials are for education only.\n"
      ]
    },
    {
      "cell_type": "code",
      "metadata": {
        "id": "GnP8fyh4xiAE"
      },
      "source": [
        "### Import libraries\n",
        "import pandas as pd # primary data structure library"
      ],
      "execution_count": null,
      "outputs": []
    },
    {
      "cell_type": "markdown",
      "metadata": {
        "id": "I5qHZo9wxiAI"
      },
      "source": [
        "# Part1. Downloading GitHub Data set "
      ]
    },
    {
      "cell_type": "code",
      "metadata": {
        "id": "SNyBWZKvx8K_"
      },
      "source": [
        "! git clone https://github.com/CSSEGISandData/COVID-19.git"
      ],
      "execution_count": null,
      "outputs": []
    },
    {
      "cell_type": "markdown",
      "metadata": {
        "id": "9b4CBTtzxiAI"
      },
      "source": [
        "This data is collected from repository for the 2019 Novel Coronavirus Visual Dashboard operated by the Johns Hopkins University Center for Systems Science and Engineering (JHU CSSE).https://github.com/CSSEGISandData/COVID-19"
      ]
    },
    {
      "cell_type": "code",
      "metadata": {
        "id": "O2wayAo5xiAJ"
      },
      "source": [
        "### Select data path\n",
        "fullpath1= '/content/COVID-19/csse_covid_19_data/csse_covid_19_time_series/time_series_covid19_confirmed_US.csv'\n",
        "\n",
        "df1 = pd.read_csv(fullpath1, error_bad_lines=False)\n",
        "\n",
        "fullpath2 = '/content/COVID-19/csse_covid_19_data/csse_covid_19_time_series/time_series_covid19_confirmed_global.csv'\n",
        "\n",
        "df2 = pd.read_csv(fullpath2, error_bad_lines=False)"
      ],
      "execution_count": null,
      "outputs": []
    },
    {
      "cell_type": "markdown",
      "metadata": {
        "id": "kDg4ZO9UxiAL"
      },
      "source": [
        "# Part 2. Explore USA time series by counties"
      ]
    },
    {
      "cell_type": "code",
      "metadata": {
        "id": "t2mZYd_yCc9m"
      },
      "source": [
        "df1.shape"
      ],
      "execution_count": null,
      "outputs": []
    },
    {
      "cell_type": "markdown",
      "metadata": {
        "id": "_btAEh9rxiAL"
      },
      "source": [
        "view the dataframe"
      ]
    },
    {
      "cell_type": "code",
      "metadata": {
        "scrolled": true,
        "id": "gqWEqfLHxiAM"
      },
      "source": [
        "df1.head()"
      ],
      "execution_count": null,
      "outputs": []
    },
    {
      "cell_type": "markdown",
      "metadata": {
        "id": "mchAkn2DK2wg"
      },
      "source": [
        "How to find out the columns?"
      ]
    },
    {
      "cell_type": "code",
      "metadata": {
        "id": "TiOhaE3FA81u"
      },
      "source": [
        "df1.columns"
      ],
      "execution_count": null,
      "outputs": []
    },
    {
      "cell_type": "code",
      "metadata": {
        "id": "30ygvmyMCQBt"
      },
      "source": [
        "df1.tail()"
      ],
      "execution_count": null,
      "outputs": []
    },
    {
      "cell_type": "code",
      "metadata": {
        "id": "4qDl5G_PkdU8"
      },
      "source": [
        "df1['Admin2'][3335:3340]"
      ],
      "execution_count": null,
      "outputs": []
    },
    {
      "cell_type": "code",
      "metadata": {
        "id": "_hDDhVhbkl6y"
      },
      "source": [
        "df1.iloc[3335:3340, 4:7]"
      ],
      "execution_count": null,
      "outputs": []
    },
    {
      "cell_type": "markdown",
      "metadata": {
        "id": "L5XxRY_7xiAO"
      },
      "source": [
        "How to find out dataframe dimensions"
      ]
    },
    {
      "cell_type": "code",
      "metadata": {
        "id": "ZkWGzF_IxiAO"
      },
      "source": [
        "print ('dataframe dimensions:', df1.shape)"
      ],
      "execution_count": null,
      "outputs": []
    },
    {
      "cell_type": "markdown",
      "metadata": {
        "id": "OJmXvuwkLD0o"
      },
      "source": [
        "How many \"province states\" are there in this data set?"
      ]
    },
    {
      "cell_type": "code",
      "metadata": {
        "id": "XS3btFeIDZtv"
      },
      "source": [
        "df1.Province_State.unique()"
      ],
      "execution_count": null,
      "outputs": []
    },
    {
      "cell_type": "code",
      "metadata": {
        "id": "njs9vglDLK9y"
      },
      "source": [
        "len(df1.Province_State.unique())"
      ],
      "execution_count": null,
      "outputs": []
    },
    {
      "cell_type": "markdown",
      "metadata": {
        "id": "2WmZ4Kdjk-nK"
      },
      "source": [
        "### Q, what is the larged case value in this data set? "
      ]
    },
    {
      "cell_type": "code",
      "metadata": {
        "id": "vhJFi8EeEwms"
      },
      "source": [
        "df1.iloc[:, 11:].max().max()"
      ],
      "execution_count": null,
      "outputs": []
    },
    {
      "cell_type": "markdown",
      "metadata": {
        "id": "ImNsXrutLt4m"
      },
      "source": [
        "Find out the largest value for column '1/14/21'"
      ]
    },
    {
      "cell_type": "code",
      "metadata": {
        "id": "F8pO0-l_F2-f"
      },
      "source": [
        "df1[\"1/14/21\"].max()"
      ],
      "execution_count": null,
      "outputs": []
    },
    {
      "cell_type": "code",
      "metadata": {
        "id": "2Kt1G3TmkabN"
      },
      "source": [
        ""
      ],
      "execution_count": null,
      "outputs": []
    },
    {
      "cell_type": "markdown",
      "metadata": {
        "id": "o5q9PaAKL3f4"
      },
      "source": [
        "## Find out which row has the largest value. "
      ]
    },
    {
      "cell_type": "code",
      "metadata": {
        "id": "52zW9b1lrDN_"
      },
      "source": [
        "df1.loc[df1['1/14/21']==976075]"
      ],
      "execution_count": null,
      "outputs": []
    },
    {
      "cell_type": "code",
      "metadata": {
        "id": "-kYG-uC-L8X6"
      },
      "source": [
        "LA = df1.iloc[213, 11:]\n",
        "type(LA)\n",
        "#print(LA)\n",
        "LA.plot()"
      ],
      "execution_count": null,
      "outputs": []
    },
    {
      "cell_type": "markdown",
      "metadata": {
        "id": "B60nCazJPoIG"
      },
      "source": [
        "## plot\n",
        "Because pandas do plot by columns, JHU data set put time series by row. So, we have to transpose the JHU dataframe. "
      ]
    },
    {
      "cell_type": "code",
      "metadata": {
        "id": "t3jEToQ2uQQE"
      },
      "source": [
        "UScases = df1.iloc[0:3, 11:].transpose() \n",
        "UScases.shape\n",
        "UScases"
      ],
      "execution_count": null,
      "outputs": []
    },
    {
      "cell_type": "code",
      "metadata": {
        "id": "mN6fwTFCQATe"
      },
      "source": [
        "UScases.plot()\n",
        "UScases.plot(subplots=True)"
      ],
      "execution_count": null,
      "outputs": []
    },
    {
      "cell_type": "code",
      "metadata": {
        "id": "18hEyLcAuO0x"
      },
      "source": [
        ""
      ],
      "execution_count": null,
      "outputs": []
    },
    {
      "cell_type": "code",
      "metadata": {
        "id": "j98axNgCtQON"
      },
      "source": [
        "df1.iloc[1:20, 11:].transpose().plot()\n"
      ],
      "execution_count": null,
      "outputs": []
    },
    {
      "cell_type": "markdown",
      "metadata": {
        "id": "HbJkt7oEO0vu"
      },
      "source": [
        "## Add meaningful index to the dataframe"
      ]
    },
    {
      "cell_type": "code",
      "metadata": {
        "id": "GynlT_Y7OzoI"
      },
      "source": [
        "# one way is to load csv with index \n",
        "df1 = pd.read_csv(fullpath1, error_bad_lines=False, index_col=10) #10th index picks 11th column of \"Combined_Key\"\n",
        "df1.reset_index(drop=True)\n",
        "df1.index"
      ],
      "execution_count": null,
      "outputs": []
    },
    {
      "cell_type": "code",
      "metadata": {
        "id": "LZi6vkvTv_MP"
      },
      "source": [
        "df1.shape"
      ],
      "execution_count": null,
      "outputs": []
    },
    {
      "cell_type": "code",
      "metadata": {
        "id": "TDBKm68bv3wF"
      },
      "source": [
        "df1.head()"
      ],
      "execution_count": null,
      "outputs": []
    },
    {
      "cell_type": "code",
      "metadata": {
        "id": "WxPgUNBQSXFs"
      },
      "source": [
        "# another way is to re-assign index\n",
        "df1 = pd.read_csv(fullpath1, error_bad_lines=False)\n",
        "newrows = list( df1['Combined_Key'])\n",
        "df1.index =  newrows\n",
        "df1.shape"
      ],
      "execution_count": null,
      "outputs": []
    },
    {
      "cell_type": "code",
      "metadata": {
        "id": "kse8nWaqwJcn"
      },
      "source": [
        "df1.head()"
      ],
      "execution_count": null,
      "outputs": []
    },
    {
      "cell_type": "code",
      "metadata": {
        "id": "OSXaT5a3TVG9"
      },
      "source": [
        "list(df1['Combined_Key'] )[1:10]"
      ],
      "execution_count": null,
      "outputs": []
    },
    {
      "cell_type": "code",
      "metadata": {
        "id": "X8wTrnHRS1Da"
      },
      "source": [
        "step = 10\n",
        "for i in range(0, 100, step):\n",
        "#for i in range(0, 3340, step):\n",
        "  UScases = df1.iloc[ i : (i+step), 11:].transpose()\n",
        "  UScases.plot()"
      ],
      "execution_count": null,
      "outputs": []
    },
    {
      "cell_type": "code",
      "metadata": {
        "id": "2_e3s1QjP-bI"
      },
      "source": [
        "df1.tail()"
      ],
      "execution_count": null,
      "outputs": []
    },
    {
      "cell_type": "markdown",
      "metadata": {
        "id": "HzlQWkxOMRfJ"
      },
      "source": [
        "## Note. It turns out that there are unassigned cases in some states, such as Wyoming. Thse unassigned cases become zero when they are settled. "
      ]
    },
    {
      "cell_type": "code",
      "metadata": {
        "id": "5Scior8axijk"
      },
      "source": [
        "df1.loc['Unassigned, Wyoming, US', ][11:].plot()"
      ],
      "execution_count": null,
      "outputs": []
    },
    {
      "cell_type": "code",
      "metadata": {
        "id": "li617mmLyD2U"
      },
      "source": [
        "df1.loc[ df1.index.str.contains('Unassigned'), ].shape\n",
        "df1.loc[ df1.index.str.contains('Unassigned'), ].head()"
      ],
      "execution_count": null,
      "outputs": []
    },
    {
      "cell_type": "code",
      "metadata": {
        "id": "44mFWoZtyXqs"
      },
      "source": [
        "# df1.loc[df1.index.str.contains('Unassigned'), ].plot() #No, this is not working properly"
      ],
      "execution_count": null,
      "outputs": []
    },
    {
      "cell_type": "code",
      "metadata": {
        "id": "zRpyFP0nxjCn"
      },
      "source": [
        "# df1.loc[df1.index.str.contains(\"Unsassigned\"),11:].plot() #error "
      ],
      "execution_count": null,
      "outputs": []
    },
    {
      "cell_type": "code",
      "metadata": {
        "id": "5jxwo4aczHpz"
      },
      "source": [
        "# df1.loc[df1.index.str.contains(\"Unassigned\")][11:].plot() #wrong plot"
      ],
      "execution_count": null,
      "outputs": []
    },
    {
      "cell_type": "code",
      "metadata": {
        "id": "5jWPBCVb2JRL"
      },
      "source": [
        "#df1.loc[df1.index.str.contains('Unassigned'), :][:,11:]"
      ],
      "execution_count": null,
      "outputs": []
    },
    {
      "cell_type": "code",
      "metadata": {
        "id": "6iYthThQ0BI7"
      },
      "source": [
        "unassigned_df = df1.loc[df1.index.str.contains('Unassigned')]\n",
        "unassigned_df.iloc[ :, 11:].shape\n",
        "unassigned_df.iloc[ :, 11:].transpose().plot()"
      ],
      "execution_count": null,
      "outputs": []
    },
    {
      "cell_type": "code",
      "metadata": {
        "id": "D3hsOxFe2t8q"
      },
      "source": [
        "df1.loc[df1.index.str.contains('Unassigned')].iloc[:, 11:].transpose().plot() # Well done, a single line solution! "
      ],
      "execution_count": null,
      "outputs": []
    },
    {
      "cell_type": "markdown",
      "metadata": {
        "id": "cP_Nj0oz86xB"
      },
      "source": [
        "## How about the cases at the Hamilton county, TN? "
      ]
    },
    {
      "cell_type": "code",
      "metadata": {
        "id": "CkBmIpqD0BML"
      },
      "source": [
        "# Can we examine cumualted cases at the Hamilton County, TN? \n",
        "\n",
        "\n",
        "df1.loc[df1['Combined_Key'] == 'Hamilton, Tennessee, US']"
      ],
      "execution_count": null,
      "outputs": []
    },
    {
      "cell_type": "code",
      "metadata": {
        "id": "BjIq8P279DLe"
      },
      "source": [
        "dfHamilton = df1[df1.Combined_Key == \"Hamilton, Tennessee, US\"]\n",
        "dfHamilton"
      ],
      "execution_count": null,
      "outputs": []
    },
    {
      "cell_type": "code",
      "metadata": {
        "id": "6WNrdcYN9DOz"
      },
      "source": [
        "df1.loc[df1['Combined_Key'] == 'Hamilton, Tennessee, US'].iloc[:, 11:].transpose().plot()"
      ],
      "execution_count": null,
      "outputs": []
    },
    {
      "cell_type": "code",
      "metadata": {
        "id": "BqrWeljE9DU4"
      },
      "source": [
        ""
      ],
      "execution_count": null,
      "outputs": []
    },
    {
      "cell_type": "code",
      "metadata": {
        "id": "H61Uklqa9DSR"
      },
      "source": [
        ""
      ],
      "execution_count": null,
      "outputs": []
    },
    {
      "cell_type": "markdown",
      "metadata": {
        "id": "i2J0MYXVbI3T"
      },
      "source": [
        "#Part 3. Examine the cases in each state."
      ]
    },
    {
      "cell_type": "code",
      "metadata": {
        "id": "JSVPZxkz0BPw"
      },
      "source": [
        "\n",
        "df1.loc[ :, 'Province_State']"
      ],
      "execution_count": null,
      "outputs": []
    },
    {
      "cell_type": "code",
      "metadata": {
        "id": "g_rWQzlgBKUY"
      },
      "source": [
        "groupby_state = df1.iloc[:,11:].groupby(df1['Province_State'])\n",
        "type( groupby_state )"
      ],
      "execution_count": null,
      "outputs": []
    },
    {
      "cell_type": "code",
      "metadata": {
        "id": "Ym3GT3yg_9Lt"
      },
      "source": [
        "df_by_state = groupby_state.sum()\n",
        "type( df_by_state )"
      ],
      "execution_count": null,
      "outputs": []
    },
    {
      "cell_type": "code",
      "metadata": {
        "id": "NnNrA-vj_9O8"
      },
      "source": [
        "df_by_state.head()"
      ],
      "execution_count": null,
      "outputs": []
    },
    {
      "cell_type": "code",
      "metadata": {
        "id": "FOPizrJT_9W_"
      },
      "source": [
        ""
      ],
      "execution_count": null,
      "outputs": []
    },
    {
      "cell_type": "code",
      "metadata": {
        "id": "70aQIbjr_9TB"
      },
      "source": [
        ""
      ],
      "execution_count": null,
      "outputs": []
    },
    {
      "cell_type": "code",
      "metadata": {
        "id": "hTR7CAxwWgfp"
      },
      "source": [
        "df_by_state.transpose().plot()"
      ],
      "execution_count": null,
      "outputs": []
    },
    {
      "cell_type": "code",
      "metadata": {
        "id": "3IRg_raNWlbB"
      },
      "source": [
        "df_by_state.transpose().iloc[:,0:5].plot(subplots=True)"
      ],
      "execution_count": null,
      "outputs": []
    },
    {
      "cell_type": "code",
      "metadata": {
        "id": "Gi2llZkUCg3R"
      },
      "source": [
        "df_by_state.transpose().loc[:,\"Tennessee\"].plot(subplots=True)"
      ],
      "execution_count": null,
      "outputs": []
    },
    {
      "cell_type": "code",
      "metadata": {
        "id": "O9sTk_THDDAK"
      },
      "source": [
        "df_by_state.head()"
      ],
      "execution_count": null,
      "outputs": []
    },
    {
      "cell_type": "code",
      "metadata": {
        "id": "hKoqUZleC17_"
      },
      "source": [
        "# df_by_state.loc['Tennessee'][11:].transpose().plot() #This is bit problematic on the columns"
      ],
      "execution_count": null,
      "outputs": []
    },
    {
      "cell_type": "code",
      "metadata": {
        "id": "vZhEWyN2W97V"
      },
      "source": [
        "df_by_state.loc[['Georgia', 'Texas', 'Alabama', 'Florida', 'Tennessee']].transpose().plot() #Here, Texas and Tennessee are row-index"
      ],
      "execution_count": null,
      "outputs": []
    },
    {
      "cell_type": "code",
      "metadata": {
        "id": "g8F1vjM_4sPd"
      },
      "source": [
        "df_by_state.transpose()[['Texas', 'Tennessee']].plot() #Here, Texas ans Tennessee are columns"
      ],
      "execution_count": null,
      "outputs": []
    },
    {
      "cell_type": "code",
      "metadata": {
        "id": "yX14MMQTzHsq"
      },
      "source": [
        ""
      ],
      "execution_count": null,
      "outputs": []
    },
    {
      "cell_type": "markdown",
      "metadata": {
        "id": "yimNR3EVbQTG"
      },
      "source": [
        "# How to examine the new cases daily? "
      ]
    },
    {
      "cell_type": "markdown",
      "metadata": {
        "id": "rFlm8ptWhOOn"
      },
      "source": [
        "## diff() on a test dataframe"
      ]
    },
    {
      "cell_type": "code",
      "metadata": {
        "id": "qZ8BPNE4zHy5"
      },
      "source": [
        "dataset = [(2, 4, 6, 8),\n",
        "           (10, 12, 14, 18),\n",
        "           (20, 22, 24, 26),\n",
        "           (28, 30, 32, 34)];\n",
        "\n",
        "df_test = pd.DataFrame(dataset, columns = (\"A\", \"B\", \"C\", \"D\" ));\n"
      ],
      "execution_count": null,
      "outputs": []
    },
    {
      "cell_type": "code",
      "metadata": {
        "id": "m29wBgo2zH3c"
      },
      "source": [
        "df_test.diff(axis=0) #by row"
      ],
      "execution_count": null,
      "outputs": []
    },
    {
      "cell_type": "code",
      "metadata": {
        "id": "Eln8Pol8zHwd"
      },
      "source": [
        "df_test.diff(axis=1) #by column"
      ],
      "execution_count": null,
      "outputs": []
    },
    {
      "cell_type": "markdown",
      "metadata": {
        "id": "9UPgApmdhXS7"
      },
      "source": [
        "## diff() on US covid19 data set\n",
        " JHU cases are by row, and we need to calculate difference between columns"
      ]
    },
    {
      "cell_type": "code",
      "metadata": {
        "id": "1OXxnVwBhceg"
      },
      "source": [
        "df_by_state.head()"
      ],
      "execution_count": null,
      "outputs": []
    },
    {
      "cell_type": "code",
      "metadata": {
        "id": "CjpC61dhhpYe"
      },
      "source": [
        "df_dailycases_by_state =  df_by_state.diff(axis=1) #1 by columns\n",
        "df_dailycases_by_state.head()"
      ],
      "execution_count": null,
      "outputs": []
    },
    {
      "cell_type": "code",
      "metadata": {
        "id": "FCylsiBaiou5"
      },
      "source": [
        "df_dailycases_by_state.transpose()[['Tennessee', 'Wisconsin']].plot()"
      ],
      "execution_count": null,
      "outputs": []
    },
    {
      "cell_type": "code",
      "metadata": {
        "id": "xHmyFUMvFrgw"
      },
      "source": [
        "df_dailycases_by_state.loc[['Tennessee', 'Texas']].iloc[:, 2:].rolling(window=3).mean()\n",
        "\n",
        "#.rolling(window=3).mean()"
      ],
      "execution_count": null,
      "outputs": []
    },
    {
      "cell_type": "code",
      "metadata": {
        "id": "La1Kk58DG2Ap"
      },
      "source": [
        "df_dailycases_by_state.transpose()[['Tennessee', 'Alaska']].rolling(window=3, center=False).mean()"
      ],
      "execution_count": null,
      "outputs": []
    },
    {
      "cell_type": "code",
      "metadata": {
        "id": "2OwbMD_8G9SG"
      },
      "source": [
        "df_dailycases_by_state.transpose()[['Tennessee', 'Alaska']].head()"
      ],
      "execution_count": null,
      "outputs": []
    },
    {
      "cell_type": "code",
      "metadata": {
        "id": "ZBTAMnbGimdR"
      },
      "source": [
        "df_dailycases_by_state.transpose()[['Tennessee', 'Alaska', 'Florida']].rolling(window=14).mean().plot(logy=True)"
      ],
      "execution_count": null,
      "outputs": []
    },
    {
      "cell_type": "code",
      "metadata": {
        "id": "DBbudDIA_6yw"
      },
      "source": [
        "df_dailycases_by_state.transpose()[['Tennessee', 'Alaska']].rolling(window=3).mean().plot(subplots=True)"
      ],
      "execution_count": null,
      "outputs": []
    },
    {
      "cell_type": "code",
      "metadata": {
        "id": "XQs5eXHhj_ul"
      },
      "source": [
        "df_dailycases_by_state.transpose()[['Tennessee', 'Texas']].rolling(window=7).mean().plot()"
      ],
      "execution_count": null,
      "outputs": []
    },
    {
      "cell_type": "code",
      "metadata": {
        "id": "97rJepR4hpbQ"
      },
      "source": [
        "df_dailycases_by_state.transpose()[['Tennessee', 'Texas']].head()"
      ],
      "execution_count": null,
      "outputs": []
    },
    {
      "cell_type": "code",
      "metadata": {
        "id": "J9AlADrKJEko"
      },
      "source": [
        ""
      ],
      "execution_count": null,
      "outputs": []
    },
    {
      "cell_type": "code",
      "metadata": {
        "id": "097QxNO5JEoN"
      },
      "source": [
        ""
      ],
      "execution_count": null,
      "outputs": []
    },
    {
      "cell_type": "markdown",
      "metadata": {
        "id": "r18YYmTjJFz3"
      },
      "source": [
        "## Examine the daily confirmed cases in Hamilton County, TN"
      ]
    },
    {
      "cell_type": "code",
      "metadata": {
        "id": "zlfKOLZGJEuv"
      },
      "source": [
        "df1.loc[df1['Combined_Key'] == 'Hamilton, Tennessee, US'].iloc[:, 11:].transpose().plot()"
      ],
      "execution_count": null,
      "outputs": []
    },
    {
      "cell_type": "code",
      "metadata": {
        "id": "eMhFHpFEJEs3"
      },
      "source": [
        "df_Hamilton = df1.loc[df1['Combined_Key'] == 'Hamilton, Tennessee, US'].iloc[:, 11:]\n",
        "\n",
        "type(df_Hamilton)\n",
        "df_Hamilton.head()"
      ],
      "execution_count": null,
      "outputs": []
    },
    {
      "cell_type": "code",
      "metadata": {
        "id": "Gb0FFMZPJkHT"
      },
      "source": [
        "df_Hamilton.transpose().diff(axis=0).plot()"
      ],
      "execution_count": null,
      "outputs": []
    },
    {
      "cell_type": "code",
      "metadata": {
        "id": "lcL30t9XJkM4"
      },
      "source": [
        "df_Hamilton.transpose().diff(axis=0).rolling(window=3).median().plot()"
      ],
      "execution_count": null,
      "outputs": []
    },
    {
      "cell_type": "code",
      "metadata": {
        "id": "aPqOBdSgKYsr"
      },
      "source": [
        "df_Hamilton.transpose().diff(axis=0).rolling(window=7).mean().plot()"
      ],
      "execution_count": null,
      "outputs": []
    },
    {
      "cell_type": "code",
      "metadata": {
        "id": "7EbsjJCZJkUI"
      },
      "source": [
        ""
      ],
      "execution_count": null,
      "outputs": []
    },
    {
      "cell_type": "code",
      "metadata": {
        "id": "lQ66VxUXJkRO"
      },
      "source": [
        ""
      ],
      "execution_count": null,
      "outputs": []
    },
    {
      "cell_type": "code",
      "metadata": {
        "id": "Afmw_HiGJkKq"
      },
      "source": [
        ""
      ],
      "execution_count": null,
      "outputs": []
    },
    {
      "cell_type": "markdown",
      "metadata": {
        "id": "KNWt5kkBJMZq"
      },
      "source": [
        "# Pick a time window using datetime"
      ]
    },
    {
      "cell_type": "code",
      "metadata": {
        "id": "PX7zI4UEhpe7"
      },
      "source": [
        "#from datetime import datetime \n",
        "\n",
        "df_dailycases_by_state2 = df_dailycases_by_state.transpose()\n",
        "\n",
        "df_dailycases_by_state2.head()"
      ],
      "execution_count": null,
      "outputs": []
    },
    {
      "cell_type": "code",
      "metadata": {
        "id": "J0wcWr0jATgO"
      },
      "source": [
        "df_dailycases_by_state2.index = pd.to_datetime(df_dailycases_by_state2.index)\n",
        "df_dailycases_by_state2.index"
      ],
      "execution_count": null,
      "outputs": []
    },
    {
      "cell_type": "code",
      "metadata": {
        "id": "tZluuZYOhphp"
      },
      "source": [
        "df_dailycases_by_state2.loc['2020-08-01':, ['Alabama', 'Tennessee', 'Georgia', 'Virginia', 'Florida']].plot()"
      ],
      "execution_count": null,
      "outputs": []
    },
    {
      "cell_type": "markdown",
      "metadata": {
        "id": "UKf3z-bYMfrP"
      },
      "source": [
        "## Examine the row with the largest value on 9/8/2020"
      ]
    },
    {
      "cell_type": "code",
      "metadata": {
        "id": "JkfB33eCL9yc"
      },
      "source": [
        "subset = df1.loc[df1['9/8/20']==249241]"
      ],
      "execution_count": null,
      "outputs": []
    },
    {
      "cell_type": "code",
      "metadata": {
        "id": "UHEgvQEQ4YG2"
      },
      "source": [
        "subset = subset.transpose()\n",
        "subset = subset.iloc[:][11:]\n",
        "type(subset)"
      ],
      "execution_count": null,
      "outputs": []
    },
    {
      "cell_type": "code",
      "metadata": {
        "id": "Z1vEOvOh8Yfr"
      },
      "source": [
        "type(subset)"
      ],
      "execution_count": null,
      "outputs": []
    },
    {
      "cell_type": "code",
      "metadata": {
        "id": "q8-2kjh6L9-A"
      },
      "source": [
        "from datetime import datetime\n",
        "\n",
        "#datetime.strptime( '9/8/20', '%m/%d/%y') \n",
        "\n",
        "dates = [datetime.strptime( x, '%m/%d/%y') for x in subset.columns[11:]]\n",
        "print(dates)"
      ],
      "execution_count": null,
      "outputs": []
    },
    {
      "cell_type": "code",
      "metadata": {
        "id": "GWTeE4aaHv_U"
      },
      "source": [
        "df1.iloc[5:10, -20:-1 ]"
      ],
      "execution_count": null,
      "outputs": []
    },
    {
      "cell_type": "markdown",
      "metadata": {
        "id": "ypegd28LxiAQ"
      },
      "source": [
        "#Part 4 Explore Global Data set"
      ]
    },
    {
      "cell_type": "markdown",
      "metadata": {
        "id": "ci1R_V4uViv5"
      },
      "source": [
        ""
      ]
    },
    {
      "cell_type": "markdown",
      "metadata": {
        "id": "jsqablmVVi95"
      },
      "source": [
        ""
      ]
    },
    {
      "cell_type": "code",
      "metadata": {
        "id": "ewl5wOeSFLNu"
      },
      "source": [
        "\n",
        "df2 = pd.read_csv(fullpath2, error_bad_lines=False)\n",
        "df2.columns"
      ],
      "execution_count": null,
      "outputs": []
    },
    {
      "cell_type": "code",
      "metadata": {
        "id": "roW2_g3jzg2R"
      },
      "source": [
        "df2['Country/Region']\n",
        "list(df2['Country/Region'].unique())"
      ],
      "execution_count": null,
      "outputs": []
    },
    {
      "cell_type": "code",
      "metadata": {
        "id": "TEIBT7sCxiAT"
      },
      "source": [
        "# Countries affected\n",
        "countries = df2['Country/Region'].unique().tolist()\n",
        "print(\"\\nTotal countries affected by virus: \",len(countries))\n",
        "print(countries)"
      ],
      "execution_count": null,
      "outputs": []
    },
    {
      "cell_type": "code",
      "metadata": {
        "id": "ljx74caIzxs-"
      },
      "source": [
        "df2by_country = df2.iloc[:, 5:].groupby(df2['Country/Region']).sum().transpose()"
      ],
      "execution_count": null,
      "outputs": []
    },
    {
      "cell_type": "code",
      "metadata": {
        "id": "ed92_aYT0n4p"
      },
      "source": [
        "df2by_country.head()"
      ],
      "execution_count": null,
      "outputs": []
    },
    {
      "cell_type": "code",
      "metadata": {
        "id": "dqiPMWvtyXMt"
      },
      "source": [
        "df2by_country.index = pd.to_datetime(df2by_country.index)"
      ],
      "execution_count": null,
      "outputs": []
    },
    {
      "cell_type": "code",
      "metadata": {
        "scrolled": false,
        "id": "WIJtOgPfxiAR"
      },
      "source": [
        "### Check if the dataframe contains NaN values\n",
        "df2by_country.head()"
      ],
      "execution_count": null,
      "outputs": []
    },
    {
      "cell_type": "code",
      "metadata": {
        "id": "rKRyDoc_y4Ge"
      },
      "source": [
        "  df2by_country.columns[ df2by_country.columns.str.contains('US') ]"
      ],
      "execution_count": null,
      "outputs": []
    },
    {
      "cell_type": "code",
      "metadata": {
        "id": "o8vrk__-y78f"
      },
      "source": [
        "  df2by_country[['US', 'France', 'India', 'Sweden']].plot(logy=True)\n"
      ],
      "execution_count": null,
      "outputs": []
    },
    {
      "cell_type": "code",
      "metadata": {
        "id": "q-PbcC5SzaWg"
      },
      "source": [
        "  df2by_country[['US', 'France', 'India', 'Sweden']]['2020-05-01':].plot(logy=False)"
      ],
      "execution_count": null,
      "outputs": []
    },
    {
      "cell_type": "markdown",
      "metadata": {
        "id": "QZ0Q9saIVkZ0"
      },
      "source": [
        "# Alternative approach to load data from GitHub"
      ]
    },
    {
      "cell_type": "markdown",
      "metadata": {
        "id": "H8C_zfXwVpzA"
      },
      "source": [
        "Go to GitHub, select the csv file,  select \"view as raw\",  and copy the URL. "
      ]
    },
    {
      "cell_type": "code",
      "metadata": {
        "id": "wIhW3yCC0WGH"
      },
      "source": [
        "import pandas as pd\n",
        "\n",
        "url = \"https://raw.githubusercontent.com/CSSEGISandData/COVID-19/master/csse_covid_19_data/csse_covid_19_time_series/time_series_covid19_confirmed_US.csv\"\n",
        "\n",
        "df = pd.read_csv(url)"
      ],
      "execution_count": null,
      "outputs": []
    },
    {
      "cell_type": "code",
      "metadata": {
        "id": "ANkxvk41WjFu"
      },
      "source": [
        "df.head"
      ],
      "execution_count": null,
      "outputs": []
    },
    {
      "cell_type": "code",
      "metadata": {
        "id": "t51U9Hs8WkvK"
      },
      "source": [
        "? pd.read_csv()"
      ],
      "execution_count": null,
      "outputs": []
    },
    {
      "cell_type": "code",
      "metadata": {
        "id": "uAuDUNxIXCjM"
      },
      "source": [
        "df2 = pd.read_csv(url, skiprows=5)\n",
        "df2.head"
      ],
      "execution_count": null,
      "outputs": []
    },
    {
      "cell_type": "code",
      "metadata": {
        "id": "rTCM8SxpXRfX"
      },
      "source": [
        ""
      ],
      "execution_count": null,
      "outputs": []
    },
    {
      "cell_type": "code",
      "metadata": {
        "id": "Z9ZLnscTtABR"
      },
      "source": [
        ""
      ],
      "execution_count": null,
      "outputs": []
    },
    {
      "cell_type": "markdown",
      "metadata": {
        "id": "acTq7el6tMwL"
      },
      "source": [
        "#Part 5. In progress Load Google Mobility data set"
      ]
    },
    {
      "cell_type": "code",
      "metadata": {
        "id": "irUNjduJtAEz"
      },
      "source": [
        "#? not working\n",
        "urlGoogleMobility = \"https://www.gstatic.com/covid19/mobility/Global_Mobility_Report.csv\"\n",
        "df.GM = pd.read_csv(urlGoogleMobility )"
      ],
      "execution_count": null,
      "outputs": []
    },
    {
      "cell_type": "code",
      "metadata": {
        "id": "A0cpgF79s__N"
      },
      "source": [
        "df.GM.head"
      ],
      "execution_count": null,
      "outputs": []
    },
    {
      "cell_type": "code",
      "metadata": {
        "id": "KbWHyohfs_8V"
      },
      "source": [
        ""
      ],
      "execution_count": null,
      "outputs": []
    }
  ]
}